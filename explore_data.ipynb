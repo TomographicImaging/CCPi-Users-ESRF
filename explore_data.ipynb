{
 "cells": [
  {
   "cell_type": "markdown",
   "metadata": {},
   "source": [
    "# Explore ESRF data"
   ]
  },
  {
   "cell_type": "markdown",
   "metadata": {},
   "source": [
    "This notebook contains example scripts for loading ESRF data using CIL by extracting the necessary metadata from an HDF5 file. Once you have identified the correct locations of data and metadata, create a custom reader and save it as a script so you can access many files with the same structure."
   ]
  },
  {
   "cell_type": "code",
   "execution_count": 2,
   "metadata": {},
   "outputs": [],
   "source": [
    "# CIL methods\n",
    "from cil.utilities.display import show_geometry\n",
    "from cil.utilities.jupyter import islicer\n",
    "from cil.io.utilities import HDF5_utilities\n",
    "# Additional packages\n",
    "import matplotlib.pyplot as plt # conda install matplotlib\n",
    "import hdf5plugin # conda install -c conda-forge hdf5plugin\n",
    "import glob\n",
    "import os\n",
    "# Custom methods\n",
    "from scripts.HDF5_ParallelDataReader import HDF5_ParallelDataReader"
   ]
  },
  {
   "cell_type": "markdown",
   "metadata": {},
   "source": [
    "Specify the parent directory and list the scans"
   ]
  },
  {
   "cell_type": "code",
   "execution_count": null,
   "metadata": {},
   "outputs": [],
   "source": [
    "parent_directory = '/mnt/share/ESRF/test_data/'\n",
    "\n",
    "files = glob.glob(os.path.join(parent_directory, '*.h5'))\n",
    "for i, file in enumerate(files):\n",
    "    print(str(i) + ': ' + str(file))\n",
    "    \n",
    "filename = files[0]"
   ]
  },
  {
   "cell_type": "markdown",
   "metadata": {},
   "source": [
    "Print the metadata to find the locations of data and scan information"
   ]
  },
  {
   "cell_type": "code",
   "execution_count": 4,
   "metadata": {},
   "outputs": [],
   "source": [
    "# HDF5_utilities.print_metadata(filename) # comment out for rendering online"
   ]
  },
  {
   "cell_type": "markdown",
   "metadata": {},
   "source": [
    "Configure paths to the relevant data and metadata in the file, then read the data"
   ]
  },
  {
   "cell_type": "code",
   "execution_count": 5,
   "metadata": {},
   "outputs": [],
   "source": [
    "reader = HDF5_ParallelDataReader(filename, \n",
    "                                 dataset_path=('1.1/measurement/pcoedgehs/',\n",
    "                                               '4.1/measurement/pcoedgehs/'),\n",
    "                                 distance_units='mm', angle_units='degree')\n",
    "\n",
    "reader.configure_angles(angles_path=('1.1/measurement/hrrz_center',\n",
    "                        '4.1/measurement/hrrz_center'))\n",
    "\n",
    "reader.configure_pixel_sizes('1.1/instrument/pcoedgehs/x_pixel_size',\n",
    "                             '1.1/instrument/pcoedgehs/y_pixel_size', HDF5_units = 'um')\n",
    "\n",
    "reader.configure_normalisation_data(flatfield_path='2.1/measurement/pcoedgehs/',\n",
    "                                    darkfield_path='3.1/measurement/pcoedgehs/')\n",
    "\n",
    "reader.configure_sample_detector_distance(sample_detector_distance=90, HDF5_units='mm') # this is necessary for phase retrieval\n",
    "\n",
    "data = reader.read()"
   ]
  },
  {
   "cell_type": "markdown",
   "metadata": {},
   "source": [
    "Use `islicer()` to visualise the data"
   ]
  },
  {
   "cell_type": "code",
   "execution_count": null,
   "metadata": {},
   "outputs": [],
   "source": [
    "islicer(data)"
   ]
  },
  {
   "cell_type": "markdown",
   "metadata": {},
   "source": [
    "And show_geometry() to check the orientation"
   ]
  },
  {
   "cell_type": "code",
   "execution_count": null,
   "metadata": {},
   "outputs": [],
   "source": [
    "show_geometry(data.geometry)"
   ]
  },
  {
   "cell_type": "markdown",
   "metadata": {},
   "source": [
    "Check the dark and flat field"
   ]
  },
  {
   "cell_type": "code",
   "execution_count": null,
   "metadata": {},
   "outputs": [],
   "source": [
    "islicer(reader.darkfield)"
   ]
  },
  {
   "cell_type": "code",
   "execution_count": null,
   "metadata": {},
   "outputs": [],
   "source": [
    "islicer(reader.flatfield)"
   ]
  },
  {
   "cell_type": "markdown",
   "metadata": {},
   "source": [
    "And plot a histogram of the data"
   ]
  },
  {
   "cell_type": "code",
   "execution_count": null,
   "metadata": {},
   "outputs": [],
   "source": [
    "plt.hist(data.array.ravel(), bins=256)\n",
    "plt.show()"
   ]
  },
  {
   "cell_type": "markdown",
   "metadata": {},
   "source": [
    "If the data loads correctly, save the configuration as a new method in the `scripts/Custom_DataReaders.py` and import it into the cil_pipeline.iypnb notebook using `from scripts.Custom_DataReaders import Custom_DataReader`"
   ]
  }
 ],
 "metadata": {
  "kernelspec": {
   "display_name": "cil_esrf",
   "language": "python",
   "name": "python3"
  },
  "language_info": {
   "codemirror_mode": {
    "name": "ipython",
    "version": 3
   },
   "file_extension": ".py",
   "mimetype": "text/x-python",
   "name": "python",
   "nbconvert_exporter": "python",
   "pygments_lexer": "ipython3",
   "version": "3.12.5"
  }
 },
 "nbformat": 4,
 "nbformat_minor": 2
}
